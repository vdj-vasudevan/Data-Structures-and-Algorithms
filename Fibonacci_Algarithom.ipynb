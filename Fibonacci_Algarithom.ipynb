{
  "nbformat": 4,
  "nbformat_minor": 0,
  "metadata": {
    "colab": {
      "provenance": []
    },
    "kernelspec": {
      "name": "python3",
      "display_name": "Python 3"
    },
    "language_info": {
      "name": "python"
    }
  },
  "cells": [
    {
      "cell_type": "markdown",
      "source": [
        "1. Implementation Using a For Loop"
      ],
      "metadata": {
        "id": "UN3WVIV3prmt"
      }
    },
    {
      "cell_type": "code",
      "execution_count": 1,
      "metadata": {
        "colab": {
          "base_uri": "https://localhost:8080/"
        },
        "id": "KiPgOzSypf3F",
        "outputId": "d42f5137-b4af-4fd2-f7ea-7b42c11dda7d"
      },
      "outputs": [
        {
          "output_type": "stream",
          "name": "stdout",
          "text": [
            "0\n",
            "1\n",
            "1\n",
            "2\n",
            "3\n",
            "5\n",
            "8\n",
            "13\n",
            "21\n",
            "34\n",
            "55\n",
            "89\n",
            "144\n",
            "233\n",
            "377\n",
            "610\n",
            "987\n",
            "1597\n",
            "2584\n",
            "4181\n"
          ]
        }
      ],
      "source": [
        "first= 0\n",
        "sec = 1\n",
        "\n",
        "print(first)\n",
        "print(sec)\n",
        "for fab in range(18):\n",
        "    newfab = first + sec\n",
        "    print(newfab)\n",
        "    first=sec\n",
        "    sec=newfab\n",
        "\n"
      ]
    },
    {
      "cell_type": "markdown",
      "source": [
        "2. Implementation Using Recursion"
      ],
      "metadata": {
        "id": "sBEr91fIqDjm"
      }
    },
    {
      "cell_type": "markdown",
      "source": [
        "Example from W3 School"
      ],
      "metadata": {
        "id": "WnAKkZC0xG8f"
      }
    },
    {
      "cell_type": "code",
      "source": [
        "from datetime import datetime as time\n",
        "start_time = time.now()\n",
        "print(0)\n",
        "print(1)\n",
        "count = 2\n",
        "\n",
        "def fibonacci(prev1, prev2):\n",
        "    global count\n",
        "    if count <= 19:\n",
        "        newFibo = prev1 + prev2\n",
        "        print(newFibo)\n",
        "        prev2 = prev1\n",
        "        prev1 = newFibo\n",
        "        count += 1\n",
        "        fibonacci(prev1, prev2)\n",
        "    else:\n",
        "        return\n",
        "\n",
        "fibonacci(1,0)\n",
        "print(f\"Time taken in Microsecons:{(time.now()-start_time).microseconds}\")"
      ],
      "metadata": {
        "colab": {
          "base_uri": "https://localhost:8080/"
        },
        "id": "wEfkijQUxNxI",
        "outputId": "6e93acd1-72ff-4573-8220-60c8ce71c04d"
      },
      "execution_count": 2,
      "outputs": [
        {
          "output_type": "stream",
          "name": "stdout",
          "text": [
            "0\n",
            "1\n",
            "1\n",
            "2\n",
            "3\n",
            "5\n",
            "8\n",
            "13\n",
            "21\n",
            "34\n",
            "55\n",
            "89\n",
            "144\n",
            "233\n",
            "377\n",
            "610\n",
            "987\n",
            "1597\n",
            "2584\n",
            "4181\n",
            "Time taken in Microsecons:10449\n"
          ]
        }
      ]
    },
    {
      "cell_type": "markdown",
      "source": [
        "**My Example without Additioonal varible**"
      ],
      "metadata": {
        "id": "s47_kDD8yOK9"
      }
    },
    {
      "cell_type": "code",
      "source": [
        "start_time = time.now()\n",
        "first = 0\n",
        "second = 1\n",
        "\n",
        "count = 2\n",
        "print(first)\n",
        "print(second)\n",
        "\n",
        "def fibonacciNumber(first,second):\n",
        "    global count\n",
        "    if count<=19:\n",
        "        first = first + second\n",
        "        second = first - second\n",
        "        first = first - second\n",
        "        second = first + second\n",
        "        print(second)\n",
        "        count+=1\n",
        "        fibonacciNumber(first,second)\n",
        "    else:\n",
        "        return\n",
        "\n",
        "fibonacciNumber(0,1)\n",
        "print(f\"Time taken in microseconds:{(time.now()-start_time).microseconds}\")"
      ],
      "metadata": {
        "colab": {
          "base_uri": "https://localhost:8080/"
        },
        "id": "4IN_UR9GqFrC",
        "outputId": "7839a4b8-b9d0-4b52-91de-5b6bed1113b6"
      },
      "execution_count": 3,
      "outputs": [
        {
          "output_type": "stream",
          "name": "stdout",
          "text": [
            "0\n",
            "1\n",
            "1\n",
            "2\n",
            "3\n",
            "5\n",
            "8\n",
            "13\n",
            "21\n",
            "34\n",
            "55\n",
            "89\n",
            "144\n",
            "233\n",
            "377\n",
            "610\n",
            "987\n",
            "1597\n",
            "2584\n",
            "4181\n",
            "Time taken in microseconds:6534\n"
          ]
        }
      ]
    },
    {
      "cell_type": "markdown",
      "source": [
        "3. Finding The\n",
        "n\n",
        "th Fibonacci Number Using Recursion"
      ],
      "metadata": {
        "id": "pA3qC76Y9-q8"
      }
    },
    {
      "cell_type": "code",
      "source": [
        "start_time = time.now()\n",
        "def F(n):\n",
        "    if n <= 1:\n",
        "        return n\n",
        "    else:\n",
        "        return F(n - 1) + F(n - 2)\n",
        "\n",
        "for i in range(20):\n",
        "    print(F(i))\n",
        "print(f\"Time taken in microseconds:{(time.now()-start_time).microseconds}\")"
      ],
      "metadata": {
        "colab": {
          "base_uri": "https://localhost:8080/"
        },
        "id": "6Ah6JNltqlD8",
        "outputId": "3158de5b-9311-484b-d606-a9e32c366861"
      },
      "execution_count": 4,
      "outputs": [
        {
          "output_type": "stream",
          "name": "stdout",
          "text": [
            "0\n",
            "1\n",
            "1\n",
            "2\n",
            "3\n",
            "5\n",
            "8\n",
            "13\n",
            "21\n",
            "34\n",
            "55\n",
            "89\n",
            "144\n",
            "233\n",
            "377\n",
            "610\n",
            "987\n",
            "1597\n",
            "2584\n",
            "4181\n",
            "Time taken in microseconds:29192\n"
          ]
        }
      ]
    },
    {
      "cell_type": "code",
      "source": [],
      "metadata": {
        "id": "R1LRl5oZ-FeH"
      },
      "execution_count": 4,
      "outputs": []
    }
  ]
}