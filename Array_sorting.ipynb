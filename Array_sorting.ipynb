{
  "nbformat": 4,
  "nbformat_minor": 0,
  "metadata": {
    "colab": {
      "provenance": []
    },
    "kernelspec": {
      "name": "python3",
      "display_name": "Python 3"
    },
    "language_info": {
      "name": "python"
    }
  },
  "cells": [
    {
      "cell_type": "markdown",
      "source": [
        "## Bobble sort"
      ],
      "metadata": {
        "id": "GOLeb5vE9jEf"
      }
    },
    {
      "cell_type": "code",
      "source": [
        "vArray = [84, 24, 55, 2, 32, 22, 93, 15]\n",
        "\n",
        "n = len(vArray)-1 # here we have did lenth -1 because the range starts from 0\n",
        "for i in range(n):\n",
        "    for j in range(n-i):\n",
        "        if vArray[j] > vArray[j+1]:\n",
        "            vArray[j], vArray[j+1] = vArray[j+1], vArray[j]\n",
        "\n",
        "print(f\"Sorted Array: {vArray}\")"
      ],
      "metadata": {
        "id": "dWBtM16pkb63",
        "colab": {
          "base_uri": "https://localhost:8080/"
        },
        "outputId": "bb7aa422-c343-452d-dfbe-ee686f0ad041"
      },
      "execution_count": null,
      "outputs": [
        {
          "output_type": "stream",
          "name": "stdout",
          "text": [
            "Sorted Array: [2, 15, 22, 24, 32, 55, 84, 93]\n"
          ]
        }
      ]
    },
    {
      "cell_type": "code",
      "source": [
        "# no of iteratioin is found by function F(n)\n",
        "def F(n):\n",
        "    if n<=1:\n",
        "      return n-1\n",
        "    else:\n",
        "      return (n-1)+F(n-1)"
      ],
      "metadata": {
        "id": "o-lrrpjQx9eJ"
      },
      "execution_count": null,
      "outputs": []
    },
    {
      "cell_type": "code",
      "source": [
        "F(8)"
      ],
      "metadata": {
        "colab": {
          "base_uri": "https://localhost:8080/"
        },
        "id": "zixwNrebyyfE",
        "outputId": "f7699c77-5a47-400e-9856-465875c4a36d"
      },
      "execution_count": null,
      "outputs": [
        {
          "output_type": "execute_result",
          "data": {
            "text/plain": [
              "28"
            ]
          },
          "metadata": {},
          "execution_count": 21
        }
      ]
    },
    {
      "cell_type": "code",
      "source": [
        "vArray = [84, 24, 55, 2, 32, 22, 93, 15]\n",
        "\n",
        "n = len(vArray)-1 # here we have did lenth -1 because the range starts from 0\n",
        "for i in range(n):\n",
        "    swap = True\n",
        "    for j in range(n-i):\n",
        "        if vArray[j] > vArray[j+1]:\n",
        "            vArray[j], vArray[j+1] = vArray[j+1], vArray[j]\n",
        "            # print(vArray)\n",
        "            swap = False\n",
        "    if swap:\n",
        "        break\n",
        "\n",
        "print(f\"Sorted Array: {vArray}\")"
      ],
      "metadata": {
        "colab": {
          "base_uri": "https://localhost:8080/"
        },
        "id": "p7Sg0PxOy1r6",
        "outputId": "1a91a77b-7fe3-44fb-9606-432bdc4dd910"
      },
      "execution_count": null,
      "outputs": [
        {
          "output_type": "stream",
          "name": "stdout",
          "text": [
            "[24, 84, 55, 2, 32, 22, 93, 15]\n",
            "[24, 55, 84, 2, 32, 22, 93, 15]\n",
            "[24, 55, 2, 84, 32, 22, 93, 15]\n",
            "[24, 55, 2, 32, 84, 22, 93, 15]\n",
            "[24, 55, 2, 32, 22, 84, 93, 15]\n",
            "[24, 55, 2, 32, 22, 84, 15, 93]\n",
            "[24, 2, 55, 32, 22, 84, 15, 93]\n",
            "[24, 2, 32, 55, 22, 84, 15, 93]\n",
            "[24, 2, 32, 22, 55, 84, 15, 93]\n",
            "[24, 2, 32, 22, 55, 15, 84, 93]\n",
            "[2, 24, 32, 22, 55, 15, 84, 93]\n",
            "[2, 24, 22, 32, 55, 15, 84, 93]\n",
            "[2, 24, 22, 32, 15, 55, 84, 93]\n",
            "[2, 22, 24, 32, 15, 55, 84, 93]\n",
            "[2, 22, 24, 15, 32, 55, 84, 93]\n",
            "[2, 22, 15, 24, 32, 55, 84, 93]\n",
            "[2, 15, 22, 24, 32, 55, 84, 93]\n",
            "Sorted Array: [2, 15, 22, 24, 32, 55, 84, 93]\n"
          ]
        }
      ]
    },
    {
      "cell_type": "markdown",
      "source": [
        "## Selection Sort"
      ],
      "metadata": {
        "id": "RVxYGsOw9oj2"
      }
    },
    {
      "cell_type": "code",
      "source": [
        "aArray = [84, 24, 55, 2, 32, 22, 93, 15]\n",
        "\n",
        "n = len(aArray)\n",
        "for i in range(n-1):\n",
        "    min_index = i\n",
        "    for j in range(i+1, n):\n",
        "        if aArray[j] < aArray[min_index]:\n",
        "            min_index = j\n",
        "    min_value = aArray.pop(min_index)\n",
        "    aArray.insert(i, min_value)\n",
        "\n",
        "print(\"Sorted array:\", aArray)"
      ],
      "metadata": {
        "colab": {
          "base_uri": "https://localhost:8080/"
        },
        "id": "4lJrpwam9izS",
        "outputId": "361a3587-c8bc-4ecd-bfb8-4d22410accf7"
      },
      "execution_count": null,
      "outputs": [
        {
          "output_type": "stream",
          "name": "stdout",
          "text": [
            "Sorted array: [2, 15, 22, 24, 32, 55, 84, 93]\n"
          ]
        }
      ]
    },
    {
      "cell_type": "markdown",
      "source": [
        "##Selection sort"
      ],
      "metadata": {
        "id": "uwWuBW9r_nTA"
      }
    },
    {
      "cell_type": "code",
      "source": [
        "my_array = [64, 34, 25, 12, 22, 11, 90, 5]\n",
        "\n",
        "n = len(my_array)\n",
        "for i in range(1,n):\n",
        "    insert_index = i\n",
        "    current_value = my_array.pop(i)\n",
        "    for j in range(i-1, -1, -1):\n",
        "        if my_array[j] > current_value:\n",
        "            insert_index = j\n",
        "    my_array.insert(insert_index, current_value)\n",
        "    print(my_array)\n",
        "\n",
        "print(\"Sorted array:\", my_array)"
      ],
      "metadata": {
        "id": "83BRgR_SbahE",
        "outputId": "4bcf39dd-c549-4989-9823-47010974e94c",
        "colab": {
          "base_uri": "https://localhost:8080/"
        }
      },
      "execution_count": null,
      "outputs": [
        {
          "output_type": "stream",
          "name": "stdout",
          "text": [
            "[34, 64, 25, 12, 22, 11, 90, 5]\n",
            "[25, 34, 64, 12, 22, 11, 90, 5]\n",
            "[12, 25, 34, 64, 22, 11, 90, 5]\n",
            "[12, 22, 25, 34, 64, 11, 90, 5]\n",
            "[11, 12, 22, 25, 34, 64, 90, 5]\n",
            "[11, 12, 22, 25, 34, 64, 90, 5]\n",
            "[5, 11, 12, 22, 25, 34, 64, 90]\n",
            "Sorted array: [5, 11, 12, 22, 25, 34, 64, 90]\n"
          ]
        }
      ]
    },
    {
      "cell_type": "markdown",
      "source": [
        "##Quicksort"
      ],
      "metadata": {
        "id": "vCbkAZAcAR7K"
      }
    },
    {
      "cell_type": "code",
      "source": [
        "def partition(array, low, high):\n",
        "    pivot = array[high]\n",
        "    i = low - 1\n",
        "    for j in range(low, high):\n",
        "        if array[j] <= pivot:\n",
        "            i += 1\n",
        "            array[i], array[j] = array[j], array[i]\n",
        "\n",
        "    array[i+1], array[high] = array[high], array[i+1]\n",
        "    return i+1"
      ],
      "metadata": {
        "id": "6tcgTOfM6x2d"
      },
      "execution_count": null,
      "outputs": []
    },
    {
      "cell_type": "code",
      "source": [
        "def quicksort(array, low=0, high=None):\n",
        "    if high is None:\n",
        "        high = len(array) - 1\n",
        "\n",
        "    if low < high:\n",
        "        pivot_index = partition(array, low, high)\n",
        "        quicksort(array, low, pivot_index-1)\n",
        "        quicksort(array, pivot_index+1, high)"
      ],
      "metadata": {
        "id": "VuYdtUVi_uOy"
      },
      "execution_count": null,
      "outputs": []
    },
    {
      "cell_type": "code",
      "source": [
        "my_array = [64, 34, 25, 12, 22, 11, 90, 5]\n",
        "quicksort(my_array)\n",
        "print(\"Sorted array:\", my_array)\n"
      ],
      "metadata": {
        "colab": {
          "base_uri": "https://localhost:8080/"
        },
        "id": "w7lAWzTAFdsZ",
        "outputId": "d4cc9ffd-5c05-434b-bc16-b181dd62a3fb"
      },
      "execution_count": null,
      "outputs": [
        {
          "output_type": "stream",
          "name": "stdout",
          "text": [
            "Sorted array: [5, 11, 12, 22, 25, 34, 64, 90]\n"
          ]
        }
      ]
    },
    {
      "cell_type": "code",
      "source": [
        "def partition(array,low=0,high=None):\n",
        "    pivot = array[high]\n",
        "    i= low-1\n",
        "    for j in range(low,high):\n",
        "        if array[j]<=pivot:\n",
        "            i+=1\n",
        "            array[j],array[i]= array[i],array[j]\n",
        "    array[high],array[i+1]=array[i+1],array[high]\n",
        "    return i+1"
      ],
      "metadata": {
        "id": "LaBGr7S6Gm0f"
      },
      "execution_count": null,
      "outputs": []
    },
    {
      "cell_type": "markdown",
      "source": [],
      "metadata": {
        "id": "1gfwcn3IRL_z"
      }
    },
    {
      "cell_type": "code",
      "source": [
        "partition([1,2,3,4,5],0,4)"
      ],
      "metadata": {
        "colab": {
          "base_uri": "https://localhost:8080/"
        },
        "id": "dPKcbLi0F6cG",
        "outputId": "bc7fcc1a-0785-4404-e782-30af42753112"
      },
      "execution_count": null,
      "outputs": [
        {
          "output_type": "execute_result",
          "data": {
            "text/plain": [
              "4"
            ]
          },
          "metadata": {},
          "execution_count": 42
        }
      ]
    },
    {
      "cell_type": "code",
      "source": [
        "def quicksort(array,low=0,high=None):\n",
        "    if high is None:\n",
        "        high = len(array)-1\n",
        "    if low < high:\n",
        "        pivot_index = partition(array,low,high)\n",
        "        quicksort(array,low,pivot_index-1)\n",
        "        quicksort(array,pivot_index+1,high)"
      ],
      "metadata": {
        "id": "ZoOm3YjfO19i"
      },
      "execution_count": null,
      "outputs": []
    },
    {
      "cell_type": "code",
      "source": [
        "my_array = [64, 34, 25, 12, 22, 11, 90, 5]\n",
        "quicksort(my_array)\n",
        "print(\"Sorted array:\", my_array)"
      ],
      "metadata": {
        "colab": {
          "base_uri": "https://localhost:8080/"
        },
        "id": "AMJHRwe6QbLf",
        "outputId": "3e51df2b-9bc5-4f73-856c-e2b672c03be5"
      },
      "execution_count": null,
      "outputs": [
        {
          "output_type": "stream",
          "name": "stdout",
          "text": [
            "Sorted array: [5, 11, 12, 22, 25, 34, 64, 90]\n"
          ]
        }
      ]
    },
    {
      "cell_type": "markdown",
      "source": [
        "##Counting Sort"
      ],
      "metadata": {
        "id": "vYM7-TueW-Sq"
      }
    },
    {
      "cell_type": "code",
      "source": [],
      "metadata": {
        "id": "5yIb6ZW_kSIn"
      },
      "execution_count": null,
      "outputs": []
    }
  ]
}